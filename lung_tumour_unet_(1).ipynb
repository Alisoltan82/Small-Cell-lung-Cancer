{
  "metadata": {
    "colab": {
      "provenance": [],
      "gpuType": "T4",
      "include_colab_link": true
    },
    "kernelspec": {
      "name": "python3",
      "display_name": "Python 3",
      "language": "python"
    },
    "language_info": {
      "name": "python",
      "version": "3.10.12",
      "mimetype": "text/x-python",
      "codemirror_mode": {
        "name": "ipython",
        "version": 3
      },
      "pygments_lexer": "ipython3",
      "nbconvert_exporter": "python",
      "file_extension": ".py"
    },
    "accelerator": "GPU",
    "kaggle": {
      "accelerator": "none",
      "dataSources": [],
      "dockerImageVersionId": 30636,
      "isInternetEnabled": true,
      "language": "python",
      "sourceType": "notebook",
      "isGpuEnabled": false
    }
  },
  "nbformat_minor": 0,
  "nbformat": 4,
  "cells": [
    {
      "cell_type": "markdown",
      "metadata": {
        "id": "view-in-github",
        "colab_type": "text"
      },
      "source": [
        "<a href=\"https://colab.research.google.com/github/Alisoltan82/Small-Cell-lung-Cancer/blob/main/lung_tumour_unet_(1).ipynb\" target=\"_parent\"><img src=\"https://colab.research.google.com/assets/colab-badge.svg\" alt=\"Open In Colab\"/></a>"
      ]
    },
    {
      "cell_type": "code",
      "source": [
        "# from google.colab import drive\n",
        "# drive.mount('/content/drive')"
      ],
      "metadata": {
        "id": "c7hT2K5Q27l6",
        "execution": {
          "iopub.status.busy": "2024-01-28T15:58:40.692083Z",
          "iopub.execute_input": "2024-01-28T15:58:40.692466Z",
          "iopub.status.idle": "2024-01-28T15:58:40.697083Z",
          "shell.execute_reply.started": "2024-01-28T15:58:40.692435Z",
          "shell.execute_reply": "2024-01-28T15:58:40.696300Z"
        },
        "trusted": true
      },
      "execution_count": null,
      "outputs": []
    },
    {
      "cell_type": "code",
      "source": [
        "# !pip install torch==2.1.1"
      ],
      "metadata": {
        "id": "8PtQnjd-TNqV",
        "execution": {
          "iopub.status.busy": "2024-01-28T15:58:40.698701Z",
          "iopub.execute_input": "2024-01-28T15:58:40.698969Z",
          "iopub.status.idle": "2024-01-28T15:58:40.717470Z",
          "shell.execute_reply.started": "2024-01-28T15:58:40.698945Z",
          "shell.execute_reply": "2024-01-28T15:58:40.716535Z"
        },
        "trusted": true
      },
      "execution_count": null,
      "outputs": []
    },
    {
      "cell_type": "code",
      "source": [
        "!pip install nibabel\n",
        "!pip install monai"
      ],
      "metadata": {
        "id": "DmV4iDxt28t6",
        "execution": {
          "iopub.status.busy": "2024-01-28T15:58:40.718611Z",
          "iopub.execute_input": "2024-01-28T15:58:40.718945Z",
          "iopub.status.idle": "2024-01-28T15:59:07.940588Z",
          "shell.execute_reply.started": "2024-01-28T15:58:40.718914Z",
          "shell.execute_reply": "2024-01-28T15:59:07.939583Z"
        },
        "trusted": true
      },
      "execution_count": null,
      "outputs": []
    },
    {
      "cell_type": "code",
      "source": [
        "import os\n",
        "from glob import glob"
      ],
      "metadata": {
        "id": "s5nfmbSc9-xA",
        "execution": {
          "iopub.status.busy": "2024-01-28T15:59:07.942922Z",
          "iopub.execute_input": "2024-01-28T15:59:07.943210Z",
          "iopub.status.idle": "2024-01-28T15:59:07.947398Z",
          "shell.execute_reply.started": "2024-01-28T15:59:07.943185Z",
          "shell.execute_reply": "2024-01-28T15:59:07.946623Z"
        },
        "trusted": true
      },
      "execution_count": null,
      "outputs": []
    },
    {
      "cell_type": "code",
      "source": [
        "import numpy as np\n",
        "import nibabel as nib\n",
        "import matplotlib.pyplot as plt\n",
        "import monai\n",
        "\n",
        "from monai.config import print_config\n",
        "from monai.apps import download_and_extract , DecathlonDataset\n",
        "\n",
        "from monai.networks.nets import UNet\n",
        "from monai.networks.layers import Norm\n",
        "from monai.metrics import DiceMetric , get_confusion_matrix , LabelQualityScore , label_quality_score , LossMetric\n",
        "from monai.losses import DiceLoss , DiceCELoss\n",
        "from monai.inferers import sliding_window_inference\n",
        "from monai.data import CacheDataset, DataLoader, Dataset, decollate_batch , ArrayDataset\n",
        "\n",
        "from monai.config import print_config , KeysCollection\n",
        "from monai.utils import first , set_determinism\n",
        "from monai.transforms import (\n",
        "    Compose,\n",
        "    LoadImage,\n",
        "    LoadImaged,\n",
        "    EnsureChannelFirst,\n",
        "    EnsureChannelFirstd,\n",
        "    ToTensor,\n",
        "    ToTensord,\n",
        "    ScaleIntensityRange,\n",
        "    ScaleIntensityRanged,\n",
        "    ThresholdIntensity,\n",
        "    ThresholdIntensityd,\n",
        "    SaveImaged,\n",
        "    Spacingd,\n",
        "    CropForegroundd,\n",
        "    Orientationd,\n",
        "    AsDiscrete,\n",
        "    RandCropByPosNegLabeld,\n",
        "    DivisiblePadd,\n",
        "    Resized,\n",
        "    RandFlipd,\n",
        "    RandRotate90d,\n",
        "    RandShiftIntensityd\n",
        "\n",
        "\n",
        "\n",
        "\n",
        ")\n",
        "\n",
        "print_config()"
      ],
      "metadata": {
        "id": "gqTPU5xe3N6M",
        "execution": {
          "iopub.status.busy": "2024-01-28T15:59:07.948557Z",
          "iopub.execute_input": "2024-01-28T15:59:07.948808Z",
          "iopub.status.idle": "2024-01-28T16:00:00.315592Z",
          "shell.execute_reply.started": "2024-01-28T15:59:07.948786Z",
          "shell.execute_reply": "2024-01-28T16:00:00.314679Z"
        },
        "trusted": true
      },
      "execution_count": null,
      "outputs": []
    },
    {
      "cell_type": "code",
      "source": [
        "HOME = os.getcwd()\n",
        "\n",
        "resource = \"https://msd-for-monai.s3-us-west-2.amazonaws.com/Task06_Lung.tar\"\n",
        "md5 = \"8afd997733c7fc0432f71255ba4e52dc\"\n",
        "\n",
        "compressed_file = os.path.join(HOME, \"Task06_Lung.tar\")\n",
        "data_dir = os.path.join(HOME, \"Task06_Lung\")\n",
        "if not os.path.exists(data_dir):\n",
        "    download_and_extract(resource, compressed_file, HOME, md5)"
      ],
      "metadata": {
        "id": "5jK8cmSTLidg",
        "execution": {
          "iopub.status.busy": "2024-01-28T16:00:00.316881Z",
          "iopub.execute_input": "2024-01-28T16:00:00.317914Z",
          "iopub.status.idle": "2024-01-28T16:05:36.869827Z",
          "shell.execute_reply.started": "2024-01-28T16:00:00.317874Z",
          "shell.execute_reply": "2024-01-28T16:05:36.869050Z"
        },
        "trusted": true
      },
      "execution_count": null,
      "outputs": []
    },
    {
      "cell_type": "code",
      "source": [
        "train_images = sorted(glob(os.path.join(data_dir, \"imagesTr\", \"*.nii.gz\")))\n",
        "train_labels = sorted(glob(os.path.join(data_dir, \"labelsTr\", \"*.nii.gz\")))\n",
        "data_dicts = [{\"image\": image_name, \"label\": label_name} for image_name, label_name in zip(train_images, train_labels)]\n",
        "train_files, val_files = data_dicts[:50], data_dicts[-10:]"
      ],
      "metadata": {
        "id": "AosVfvxXB4gO",
        "execution": {
          "iopub.status.busy": "2024-01-28T16:05:36.870936Z",
          "iopub.execute_input": "2024-01-28T16:05:36.871204Z",
          "iopub.status.idle": "2024-01-28T16:05:36.878439Z",
          "shell.execute_reply.started": "2024-01-28T16:05:36.871181Z",
          "shell.execute_reply": "2024-01-28T16:05:36.877520Z"
        },
        "trusted": true
      },
      "execution_count": null,
      "outputs": []
    },
    {
      "cell_type": "code",
      "source": [
        "len(train_files) , len(val_files)"
      ],
      "metadata": {
        "id": "3C-4-J8WMfn-",
        "execution": {
          "iopub.status.busy": "2024-01-28T16:05:36.879424Z",
          "iopub.execute_input": "2024-01-28T16:05:36.879694Z",
          "iopub.status.idle": "2024-01-28T16:05:38.086884Z",
          "shell.execute_reply.started": "2024-01-28T16:05:36.879671Z",
          "shell.execute_reply": "2024-01-28T16:05:38.085903Z"
        },
        "trusted": true
      },
      "execution_count": null,
      "outputs": []
    },
    {
      "cell_type": "code",
      "source": [
        "# from tqdm.auto import tqdm\n",
        "\n",
        "# for i in tqdm(train_labels):\n",
        "#     label = nib.load(i).get_fdata()\n",
        "#     # print(i,len(np.unique(label)))\n",
        "#     if len(np.unique(label)) > 2 :\n",
        "#         print(f'default file {i}')\n",
        "#     elif len(np.unique(label))< 2:\n",
        "#         print(f'no segment {i}')\n",
        "\n",
        "\n"
      ],
      "metadata": {
        "id": "9zvdFOGxTNqi",
        "execution": {
          "iopub.status.busy": "2024-01-28T16:05:38.088086Z",
          "iopub.execute_input": "2024-01-28T16:05:38.088389Z",
          "iopub.status.idle": "2024-01-28T16:05:38.993139Z",
          "shell.execute_reply.started": "2024-01-28T16:05:38.088364Z",
          "shell.execute_reply": "2024-01-28T16:05:38.992060Z"
        },
        "trusted": true
      },
      "execution_count": null,
      "outputs": []
    },
    {
      "cell_type": "code",
      "source": [
        "# for i in range(len(train_images)):\n",
        "\n",
        "#     image  = train_images[i]\n",
        "#     imag  = nib.load(image).get_fdata()\n",
        "#     print(imag.shape)\n",
        "\n"
      ],
      "metadata": {
        "id": "5HQZxOBZTNqj",
        "execution": {
          "iopub.status.busy": "2024-01-28T16:05:38.996057Z",
          "iopub.execute_input": "2024-01-28T16:05:38.996377Z",
          "iopub.status.idle": "2024-01-28T16:05:39.551307Z",
          "shell.execute_reply.started": "2024-01-28T16:05:38.996351Z",
          "shell.execute_reply": "2024-01-28T16:05:39.550223Z"
        },
        "trusted": true
      },
      "execution_count": null,
      "outputs": []
    },
    {
      "cell_type": "code",
      "source": [
        "# for i in range(len(train_labels)):\n",
        "\n",
        "#     image  = train_labels[i]\n",
        "#     imag  = nib.load(image).get_fdata()\n",
        "#     print(imag.shape)"
      ],
      "metadata": {
        "execution": {
          "iopub.status.busy": "2024-01-28T16:05:39.552716Z",
          "iopub.execute_input": "2024-01-28T16:05:39.553080Z",
          "iopub.status.idle": "2024-01-28T16:05:40.465477Z",
          "shell.execute_reply.started": "2024-01-28T16:05:39.553045Z",
          "shell.execute_reply": "2024-01-28T16:05:40.464612Z"
        },
        "trusted": true,
        "id": "ZnCZ5z_df-2g"
      },
      "execution_count": null,
      "outputs": []
    },
    {
      "cell_type": "code",
      "source": [
        "import random\n",
        "r = random.randint(0, len(train_images))\n",
        "\n",
        "\n",
        "r_img = nib.load(train_images[r]).get_fdata()\n",
        "print(r_img.shape , np.max(r_img) , np.min(r_img))\n",
        "r_label = nib.load(train_labels[r]).get_fdata()\n",
        "print(r_label.shape , r_label.min() , r_label.max())\n",
        "\n",
        "\n",
        "# for i in range(r_label.shape[2]):\n",
        "#     if r_label[i].max() > 0:\n",
        "#           k = random.randint(i_list)\n",
        "#         print(k)\n",
        "\n",
        "\n",
        "plt.figure(figsize = (8,5))\n",
        "plt.subplot(121)\n",
        "plt.imshow(r_img[:,:,20], cmap = 'gray')\n",
        "plt.colorbar()\n",
        "plt.subplot(122)\n",
        "plt.imshow(r_label[:,:,20])\n",
        "plt.show()"
      ],
      "metadata": {
        "id": "pO9BR242MxwB",
        "execution": {
          "iopub.status.busy": "2024-01-28T16:05:40.466817Z",
          "iopub.execute_input": "2024-01-28T16:05:40.467184Z",
          "iopub.status.idle": "2024-01-28T16:05:45.435360Z",
          "shell.execute_reply.started": "2024-01-28T16:05:40.467149Z",
          "shell.execute_reply": "2024-01-28T16:05:45.434427Z"
        },
        "trusted": true
      },
      "execution_count": null,
      "outputs": []
    },
    {
      "cell_type": "code",
      "source": [
        "#setting piplines for train and validation\n",
        "\n",
        "train_transforms = Compose(\n",
        "    [\n",
        "        LoadImaged(keys=[\"image\", \"label\"]),\n",
        "        EnsureChannelFirstd(keys=[\"image\", \"label\"]),\n",
        "        ScaleIntensityRanged(\n",
        "            keys=[\"image\"],\n",
        "            a_min=-1024.0,\n",
        "            a_max=3071.0,\n",
        "            b_min=0.0,\n",
        "            b_max=1.0,\n",
        "            clip=True,\n",
        "        ),\n",
        "        CropForegroundd(keys=[\"image\", \"label\"], source_key=\"image\"),\n",
        "        #DivisiblePadd(keys=[\"image\", \"label\"], k = 16),\n",
        "            Spacingd(keys=[\"image\", \"label\"], pixdim=(1.5, 1.5, 2.0), mode=(\"bilinear\", \"nearest\")),\n",
        "            Orientationd(keys=[\"image\", \"label\"], axcodes=\"RAS\"),\n",
        "            RandCropByPosNegLabeld(\n",
        "                keys=[\"image\", \"label\"],\n",
        "                label_key=\"label\",\n",
        "                spatial_size=(64, 64, 64),\n",
        "                pos=1,\n",
        "                neg=1,\n",
        "                num_samples=6,\n",
        "                image_key=\"image\",\n",
        "                image_threshold=0,\n",
        "            ),\n",
        "#         DivisiblePadd(keys = ['image' , 'label'] , k = 32),\n",
        "#             Resized(\n",
        "#                 keys=[\"image\", \"label\"],\n",
        "#                 spatial_size=(128, 128, 128)\n",
        "#             ),\n",
        "            RandFlipd(\n",
        "                keys=[\"image\", \"label\"],\n",
        "            spatial_axis=[0],\n",
        "            prob=0.10,\n",
        "        ),\n",
        "        RandFlipd(\n",
        "            keys=[\"image\", \"label\"],\n",
        "            spatial_axis=[1],\n",
        "            prob=0.10,\n",
        "        ),\n",
        "        RandFlipd(\n",
        "            keys=[\"image\", \"label\"],\n",
        "            spatial_axis=[2],\n",
        "            prob=0.10,\n",
        "        ),\n",
        "        RandRotate90d(\n",
        "            keys=[\"image\", \"label\"],\n",
        "            prob=0.10,\n",
        "            max_k=3,\n",
        "        ),\n",
        "        RandShiftIntensityd(\n",
        "            keys=[\"image\"],\n",
        "            offsets=0.10,\n",
        "            prob=0.50,\n",
        "        )\n",
        "          ])\n",
        "\n",
        "\n",
        "val_transforms = Compose(\n",
        "    [\n",
        "        LoadImaged(keys=[\"image\", \"label\"]),\n",
        "        EnsureChannelFirstd(keys=[\"image\", \"label\"]),\n",
        "        ScaleIntensityRanged(\n",
        "            keys=[\"image\"],\n",
        "            a_min=-1024.0,\n",
        "            a_max=3071.0,\n",
        "            b_min=0.0,\n",
        "            b_max=1.0,\n",
        "            clip=True),\n",
        "\n",
        "        CropForegroundd(keys=[\"image\", \"label\"], source_key=\"image\"),\n",
        "\n",
        "        Orientationd(keys=[\"image\", \"label\"], axcodes=\"RAS\"),\n",
        "        Spacingd(keys=[\"image\", \"label\"], pixdim=(1.5, 1.5, 2.0), mode=(\"bilinear\", \"nearest\")),\n",
        "       ])\n",
        "# Resized(keys=[\"image\", \"label\"], spatial_size = (128,128,128))\n",
        "#  DivisiblePadd(keys = ['image' , 'label'] , k = 32)"
      ],
      "metadata": {
        "id": "tcJLN-xWN0vz",
        "execution": {
          "iopub.status.busy": "2024-01-28T16:05:45.436596Z",
          "iopub.execute_input": "2024-01-28T16:05:45.436894Z",
          "iopub.status.idle": "2024-01-28T16:05:45.470131Z",
          "shell.execute_reply.started": "2024-01-28T16:05:45.436868Z",
          "shell.execute_reply": "2024-01-28T16:05:45.469218Z"
        },
        "trusted": true
      },
      "execution_count": null,
      "outputs": []
    },
    {
      "cell_type": "code",
      "source": [
        "check_ds = Dataset(data=train_files, transform=val_transforms)\n",
        "check_loader = DataLoader(check_ds, batch_size=1)\n",
        "check_data = first(check_loader)\n",
        "image, label = (check_data[\"image\"][0][0], check_data[\"label\"][0][0])\n",
        "print(f\"image shape: {image.shape}, label shape: {label.shape}\")\n",
        "# for i in range(label.shape[2]):\n",
        "#     if label[i].max() == 1:\n",
        "#         k = random.randint(0,i)\n",
        "# print(k)\n",
        "plt.figure(\"check\", (12, 6))\n",
        "plt.subplot(1, 2, 1)\n",
        "plt.title(\"image\")\n",
        "plt.imshow(image[:, :,60 ], cmap=\"gray\")\n",
        "plt.subplot(1, 2, 2)\n",
        "plt.title(\"label\")\n",
        "plt.imshow(label[:, :, 60])\n",
        "plt.show()"
      ],
      "metadata": {
        "id": "b8hgbyuIf8_9",
        "execution": {
          "iopub.status.busy": "2024-01-28T16:05:45.471439Z",
          "iopub.execute_input": "2024-01-28T16:05:45.472092Z",
          "iopub.status.idle": "2024-01-28T16:05:56.186435Z",
          "shell.execute_reply.started": "2024-01-28T16:05:45.472057Z",
          "shell.execute_reply": "2024-01-28T16:05:56.185566Z"
        },
        "trusted": true
      },
      "execution_count": null,
      "outputs": []
    },
    {
      "cell_type": "code",
      "source": [
        "check_ds = Dataset(data=val_files, transform=val_transforms)\n",
        "check_loader = DataLoader(check_ds, batch_size=1)\n",
        "check_data = first(check_loader)\n",
        "image, label = (check_data[\"image\"][0][0], check_data[\"label\"][0][0])\n",
        "print(f\"image shape: {image.shape}, label shape: {label.shape}\")\n",
        "# for i in range(label.shape[2]):\n",
        "#     if label[i].max() == 1:\n",
        "#         k = random.randint(0,i)\n",
        "# print(k)\n",
        "plt.figure(\"check\", (12, 6))\n",
        "plt.subplot(1, 2, 1)\n",
        "plt.title(\"image\")\n",
        "plt.imshow(image[:, :, 70], cmap=\"gray\")\n",
        "plt.subplot(1, 2, 2)\n",
        "plt.title(\"label\")\n",
        "plt.imshow(label[:, :, 70])\n",
        "plt.show()"
      ],
      "metadata": {
        "id": "ninE9pwEPj7M",
        "execution": {
          "iopub.status.busy": "2024-01-28T16:05:56.187636Z",
          "iopub.execute_input": "2024-01-28T16:05:56.187899Z",
          "iopub.status.idle": "2024-01-28T16:06:04.550509Z",
          "shell.execute_reply.started": "2024-01-28T16:05:56.187875Z",
          "shell.execute_reply": "2024-01-28T16:06:04.549647Z"
        },
        "trusted": true
      },
      "execution_count": null,
      "outputs": []
    },
    {
      "cell_type": "code",
      "source": [
        "# Dataloaders - Train , val\n",
        "\n",
        "#train\n",
        "train_ds = CacheDataset(data=train_files, transform=train_transforms, cache_rate=1.0, num_workers=1 )\n",
        "train_loader = DataLoader(train_ds, batch_size=2, shuffle=True, num_workers=1 )\n",
        "\n",
        "#val\n",
        "val_ds = CacheDataset(data=val_files, transform=val_transforms, cache_rate=1.0, num_workers=1)\n",
        "val_loader = DataLoader(val_ds, batch_size=1, num_workers=2 )"
      ],
      "metadata": {
        "id": "GkNA06zBP_4q",
        "execution": {
          "iopub.status.busy": "2024-01-28T16:06:04.551834Z",
          "iopub.execute_input": "2024-01-28T16:06:04.552213Z",
          "iopub.status.idle": "2024-01-28T16:13:27.560305Z",
          "shell.execute_reply.started": "2024-01-28T16:06:04.552181Z",
          "shell.execute_reply": "2024-01-28T16:13:27.559339Z"
        },
        "trusted": true
      },
      "execution_count": null,
      "outputs": []
    },
    {
      "cell_type": "code",
      "source": [
        "data = first(train_loader)\n",
        "data['image'].shape , data['label'].shape"
      ],
      "metadata": {
        "id": "h081sMwtTNqs",
        "execution": {
          "iopub.status.busy": "2024-01-28T16:13:27.561731Z",
          "iopub.execute_input": "2024-01-28T16:13:27.562089Z",
          "iopub.status.idle": "2024-01-28T16:13:28.916727Z",
          "shell.execute_reply.started": "2024-01-28T16:13:27.562055Z",
          "shell.execute_reply": "2024-01-28T16:13:28.915573Z"
        },
        "trusted": true
      },
      "execution_count": null,
      "outputs": []
    },
    {
      "cell_type": "code",
      "source": [
        "\n",
        "#Model\n",
        "import torch\n",
        "\n",
        "device = torch.device(\"cuda:0\")\n",
        "model = UNet(\n",
        "    spatial_dims=3,\n",
        "    in_channels=1,\n",
        "    out_channels=2,\n",
        "    channels=(16, 32, 64, 128, 256),\n",
        "    strides=(2, 2, 2, 2),\n",
        "    num_res_units=2,\n",
        "    norm=Norm.BATCH,\n",
        ").to(device)\n",
        "loss_function = DiceCELoss(to_onehot_y=True, sigmoid=True )\n",
        "optimizer = torch.optim.Adam(model.parameters(), 1e-4)\n",
        "dice_metric = DiceMetric(include_background=True, reduction=\"mean\")\n"
      ],
      "metadata": {
        "id": "8U3yu8IcSGAl",
        "execution": {
          "iopub.status.busy": "2024-01-28T16:17:21.706915Z",
          "iopub.execute_input": "2024-01-28T16:17:21.707338Z",
          "iopub.status.idle": "2024-01-28T16:17:21.775505Z",
          "shell.execute_reply.started": "2024-01-28T16:17:21.707305Z",
          "shell.execute_reply": "2024-01-28T16:17:21.774755Z"
        },
        "trusted": true
      },
      "execution_count": null,
      "outputs": []
    },
    {
      "cell_type": "code",
      "source": [
        "# def dice_metric(y_pred, y):\n",
        "#     loss = DiceLoss(to_onehot_y=True, sigmoid=True , squared_pred = True)\n",
        "#     value = 1-loss\n",
        "#     return value\n",
        ""
      ],
      "metadata": {
        "execution": {
          "iopub.status.busy": "2024-01-28T16:17:22.170581Z",
          "iopub.execute_input": "2024-01-28T16:17:22.170927Z",
          "iopub.status.idle": "2024-01-28T16:17:22.175008Z",
          "shell.execute_reply.started": "2024-01-28T16:17:22.170900Z",
          "shell.execute_reply": "2024-01-28T16:17:22.174277Z"
        },
        "trusted": true,
        "id": "7gue22cIf-2j"
      },
      "execution_count": null,
      "outputs": []
    },
    {
      "cell_type": "code",
      "source": [
        "# #loss / opt\n",
        "\n",
        "# loss_function = DiceLoss(to_onehot_y=True, sigmoid=True)\n",
        "# optimizer = torch.optim.Adam(model.parameters(), 1e-4)\n",
        "# dice_metric = DiceMetric(include_background=True, reduction=\"mean\")"
      ],
      "metadata": {
        "id": "fRRow4WnSa_M",
        "execution": {
          "iopub.status.busy": "2024-01-28T16:17:22.490597Z",
          "iopub.execute_input": "2024-01-28T16:17:22.490951Z",
          "iopub.status.idle": "2024-01-28T16:17:22.495161Z",
          "shell.execute_reply.started": "2024-01-28T16:17:22.490923Z",
          "shell.execute_reply": "2024-01-28T16:17:22.494275Z"
        },
        "trusted": true
      },
      "execution_count": null,
      "outputs": []
    },
    {
      "cell_type": "code",
      "source": [
        "torch.manual_seed(42)\n",
        "max_epochs = 500\n",
        "val_interval = 5\n",
        "best_metric = -1\n",
        "best_metric_epoch = -1\n",
        "epoch_loss_values = []\n",
        "metric_values = []\n",
        "post_pred = Compose([AsDiscrete(argmax=True , to_onehot=2)])\n",
        "post_label = Compose([AsDiscrete(to_onehot=2)])\n",
        "\n",
        "for epoch in range(max_epochs):\n",
        "    print(\"-\" * 10)\n",
        "    print(f\"epoch {epoch + 1}/{max_epochs}\")\n",
        "    model.train()\n",
        "    epoch_loss = 0\n",
        "    step = 0\n",
        "    for batch_data in train_loader:\n",
        "        step += 1\n",
        "        inputs, labels = (\n",
        "            batch_data[\"image\"].to(device),\n",
        "            batch_data[\"label\"].to(device),\n",
        "        )\n",
        "        optimizer.zero_grad()\n",
        "        outputs = model(inputs)\n",
        "        loss = loss_function(outputs, labels)\n",
        "        loss.backward()\n",
        "        optimizer.step()\n",
        "        epoch_loss += loss.item()\n",
        "#         print(f\"{step}/{len(train_ds) // train_loader.batch_size}, \" f\"train_loss: {loss.item():.4f}\")\n",
        "    epoch_loss /= step\n",
        "    epoch_loss_values.append(epoch_loss)\n",
        "#     np.save(os.path.join(HOME , 'epoch_loss.npy') , epoch_loss_values)\n",
        "    print(f\"epoch {epoch + 1} average loss: {epoch_loss:.4f}\")\n",
        "\n",
        "    if (epoch + 1) % val_interval == 0:\n",
        "        model.eval()\n",
        "        with torch.inference_mode():\n",
        "            for val_data in val_loader:\n",
        "                val_inputs, val_labels = (\n",
        "                    val_data[\"image\"].to(device),\n",
        "                    val_data[\"label\"].to(device),\n",
        "                )\n",
        "                roi_size = (64, 64, 64)\n",
        "                sw_batch_size = 4\n",
        "                val_outputs = sliding_window_inference(val_inputs, roi_size, sw_batch_size, model )\n",
        "                val_outputs = [post_pred(i) for i in decollate_batch(val_outputs)]\n",
        "                val_labels = [post_label(i) for i in decollate_batch(val_labels)]\n",
        "#                 print(val_labels.shape , val_outputs.shape)\n",
        "\n",
        "                # compute metric for current iteration\n",
        "                dice_metric(y_pred=val_outputs, y=val_labels)\n",
        "\n",
        "            # aggregate the final mean dice result\n",
        "            metric = dice_metric.aggregate().item()\n",
        "            # reset the status for next validation round\n",
        "            dice_metric.reset()\n",
        "\n",
        "            metric_values.append(metric)\n",
        "            if metric > best_metric:\n",
        "                best_metric = metric\n",
        "                best_metric_epoch = epoch + 1\n",
        "#                 np.save(os.path.join(HOME , 'metric_values.npy' , metric_values))\n",
        "                torch.save(model.state_dict(), os.path.join(HOME, \"best_metric_model.pth\"))\n",
        "                print(\"saved new best metric model\")\n",
        "            print(\n",
        "                f\"current epoch: {epoch + 1} current mean dice: {metric:.4f}\"\n",
        "                f\"\\nbest mean dice: {best_metric:.4f} \"\n",
        "                f\"at epoch: {best_metric_epoch}\"\n",
        "            )"
      ],
      "metadata": {
        "id": "tdnR0qcySv6p",
        "execution": {
          "iopub.status.busy": "2024-01-28T16:17:23.631865Z",
          "iopub.execute_input": "2024-01-28T16:17:23.632229Z",
          "iopub.status.idle": "2024-01-28T18:34:40.178422Z",
          "shell.execute_reply.started": "2024-01-28T16:17:23.632201Z",
          "shell.execute_reply": "2024-01-28T18:34:40.177117Z"
        },
        "trusted": true
      },
      "execution_count": null,
      "outputs": []
    },
    {
      "cell_type": "code",
      "source": [
        "plt.figure(\"train\", (12, 6))\n",
        "plt.subplot(1, 2, 1)\n",
        "plt.title(\"Epoch Average Loss\")\n",
        "x = [i + 1 for i in range(len(epoch_loss_values))]\n",
        "y = epoch_loss_values\n",
        "plt.xlabel(\"epoch\")\n",
        "plt.plot(x, y)\n",
        "plt.subplot(1, 2, 2)\n",
        "plt.title(\"Val Mean Dice\")\n",
        "x = [val_interval * (i + 1) for i in range(len(metric_values))]\n",
        "y = metric_values\n",
        "plt.xlabel(\"epoch\")\n",
        "plt.plot(x, y)\n",
        "plt.show()"
      ],
      "metadata": {
        "id": "0WGx1OJPyD6j",
        "execution": {
          "iopub.status.busy": "2024-01-28T18:34:40.180247Z",
          "iopub.execute_input": "2024-01-28T18:34:40.180607Z",
          "iopub.status.idle": "2024-01-28T18:34:40.666741Z",
          "shell.execute_reply.started": "2024-01-28T18:34:40.180575Z",
          "shell.execute_reply": "2024-01-28T18:34:40.665767Z"
        },
        "trusted": true
      },
      "execution_count": null,
      "outputs": []
    },
    {
      "cell_type": "code",
      "source": [
        "# train_images = sorted(glob(os.path.join(data_dir, \"imagesTr\", \"*.nii.gz\")))\n",
        "# train_labels = sorted(glob(os.path.join(data_dir, \"labelsTr\", \"*.nii.gz\")))\n",
        "# data_dicts = [{\"image\": image_name, \"label\": label_name} for image_name, label_name in zip(train_images, train_labels)]\n",
        "# train_files, val_files = data_dicts[20:40], data_dicts[41:46]"
      ],
      "metadata": {
        "id": "9qbdQuBovtbH",
        "execution": {
          "iopub.status.busy": "2024-01-28T12:29:44.694156Z",
          "iopub.execute_input": "2024-01-28T12:29:44.694447Z",
          "iopub.status.idle": "2024-01-28T12:29:44.698972Z",
          "shell.execute_reply.started": "2024-01-28T12:29:44.694423Z",
          "shell.execute_reply": "2024-01-28T12:29:44.698028Z"
        },
        "trusted": true
      },
      "execution_count": null,
      "outputs": []
    },
    {
      "cell_type": "code",
      "source": [
        "len(train_files) , len(val_files)"
      ],
      "metadata": {
        "id": "egSgAp8iwN4I",
        "execution": {
          "iopub.status.busy": "2024-01-28T12:29:44.700895Z",
          "iopub.execute_input": "2024-01-28T12:29:44.701160Z",
          "iopub.status.idle": "2024-01-28T12:29:44.710584Z",
          "shell.execute_reply.started": "2024-01-28T12:29:44.701137Z",
          "shell.execute_reply": "2024-01-28T12:29:44.709661Z"
        },
        "trusted": true
      },
      "execution_count": null,
      "outputs": []
    },
    {
      "cell_type": "code",
      "source": [
        "# # Dataloaders - Train , val\n",
        "\n",
        "# #train\n",
        "# train_ds = CacheDataset(data=train_files, transform=train_transforms, cache_rate=1.0, num_workers=4 )\n",
        "# train_loader = DataLoader(train_ds, batch_size=2, shuffle=False, num_workers=4 )\n",
        "\n",
        "# #val\n",
        "# val_ds = CacheDataset(data=val_files, transform=val_transforms, cache_rate=1.0, num_workers=4)\n",
        "# val_loader = DataLoader(val_ds, batch_size=1, num_workers=4 )"
      ],
      "metadata": {
        "id": "5Ef0_77txEGI",
        "execution": {
          "iopub.status.busy": "2024-01-28T12:29:44.711736Z",
          "iopub.execute_input": "2024-01-28T12:29:44.712022Z",
          "iopub.status.idle": "2024-01-28T12:29:44.721165Z",
          "shell.execute_reply.started": "2024-01-28T12:29:44.711999Z",
          "shell.execute_reply": "2024-01-28T12:29:44.720322Z"
        },
        "trusted": true
      },
      "execution_count": null,
      "outputs": []
    },
    {
      "cell_type": "code",
      "source": [
        "# import torch\n",
        "\n",
        "# device = torch.device(\"cuda\")\n",
        "# model_2 = UNet(\n",
        "#     spatial_dims=3,\n",
        "#     in_channels=1,\n",
        "#     out_channels=2,\n",
        "#     channels=(16, 32, 64, 128, 256),\n",
        "#     strides=(2, 2, 2, 2),\n",
        "#     num_res_units=2,\n",
        "#     norm=Norm.BATCH,\n",
        "# ).to(device)\n",
        "\n",
        "# #loss / opt\n",
        "\n",
        "# loss_function = DiceLoss(to_onehot_y=True, sigmoid=True)\n",
        "# optimizer = torch.optim.Adam(model.parameters(), 1e-4)\n",
        "# dice_metric = DiceMetric(include_background=True, reduction=\"mean\")\n",
        "\n",
        "# model.load_state_dict(torch.load('/content/best_metric_model.pth'))"
      ],
      "metadata": {
        "id": "DRTv8Mo-ztFB",
        "execution": {
          "iopub.status.busy": "2024-01-28T12:29:44.722278Z",
          "iopub.execute_input": "2024-01-28T12:29:44.722566Z",
          "iopub.status.idle": "2024-01-28T12:29:45.033472Z",
          "shell.execute_reply.started": "2024-01-28T12:29:44.722542Z",
          "shell.execute_reply": "2024-01-28T12:29:45.032047Z"
        },
        "trusted": true
      },
      "execution_count": null,
      "outputs": []
    },
    {
      "cell_type": "code",
      "source": [
        "# max_epochs = 120\n",
        "# val_interval = 2\n",
        "# best_metric = -1\n",
        "# best_metric_epoch = -1\n",
        "# epoch_loss_values = []\n",
        "# metric_values = []\n",
        "# post_pred = Compose([AsDiscrete(argmax=True, to_onehot=2)])\n",
        "# post_label = Compose([AsDiscrete(to_onehot=2)])\n",
        "\n",
        "# for epoch in range(max_epochs):\n",
        "#     print(\"-\" * 10)\n",
        "#     print(f\"epoch {epoch + 1}/{max_epochs}\")\n",
        "#     model_2.train()\n",
        "#     epoch_loss = 0\n",
        "#     step = 0\n",
        "#     for batch_data in train_loader:\n",
        "#         step += 1\n",
        "#         inputs, labels = (\n",
        "#             batch_data[\"image\"].to(device),\n",
        "#             batch_data[\"label\"].to(device),\n",
        "#         )\n",
        "#         optimizer.zero_grad()\n",
        "#         outputs = model(inputs)\n",
        "#         loss = loss_function(outputs, labels)\n",
        "#         loss.backward()\n",
        "#         optimizer.step()\n",
        "#         epoch_loss += loss.item()\n",
        "# #         print(f\"{step}/{len(train_ds) // train_loader.batch_size}, \" f\"train_loss: {loss.item():.4f}\")\n",
        "#     epoch_loss /= step\n",
        "#     epoch_loss_values.append(epoch_loss)\n",
        "#     print(f\"epoch {epoch + 1} average loss: {epoch_loss:.4f}\")\n",
        "\n",
        "#     if (epoch + 1) % val_interval == 0:\n",
        "#         model_2.eval()\n",
        "#         with torch.inference_mode():\n",
        "#             for val_data in val_loader:\n",
        "#                 val_inputs, val_labels = (\n",
        "#                     val_data[\"image\"].to(device),\n",
        "#                     val_data[\"label\"].to(device),\n",
        "#                 )\n",
        "#                 roi_size = (64, 64, 64)\n",
        "#                 sw_batch_size = 1\n",
        "#                 val_outputs = sliding_window_inference(val_inputs, roi_size, sw_batch_size, model)\n",
        "#                 val_outputs = [post_pred(i) for i in decollate_batch(val_outputs)]\n",
        "#                 val_labels = [post_label(i) for i in decollate_batch(val_labels)]\n",
        "# #                 print(val_labels.shape , val_outputs.shape)\n",
        "\n",
        "#                 # compute metric for current iteration\n",
        "#                 dice_metric(y_pred=val_outputs, y=val_labels)\n",
        "\n",
        "#             # aggregate the final mean dice result\n",
        "#             metric = dice_metric.aggregate().item()\n",
        "#             # reset the status for next validation round\n",
        "#             dice_metric.reset()\n",
        "\n",
        "#             metric_values.append(metric)\n",
        "#             if metric > best_metric:\n",
        "#                 best_metric = metric\n",
        "#                 best_metric_epoch = epoch + 1\n",
        "#                 torch.save(model.state_dict(), os.path.join(HOME, \"best_metric_model.pth\"))\n",
        "#                 print(\"saved new best metric model\")\n",
        "#             print(\n",
        "#                 f\"current epoch: {epoch + 1} current mean dice: {metric:.4f}\"\n",
        "#                 f\"\\nbest mean dice: {best_metric:.4f} \"\n",
        "#                 f\"at epoch: {best_metric_epoch}\"\n",
        "#             )"
      ],
      "metadata": {
        "id": "SWkZlQwCxJMR"
      },
      "execution_count": null,
      "outputs": []
    },
    {
      "cell_type": "code",
      "source": [],
      "metadata": {
        "id": "3elZKvw_yA9Z"
      },
      "execution_count": null,
      "outputs": []
    },
    {
      "cell_type": "code",
      "source": [],
      "metadata": {
        "id": "ChPwJBpCwhlL"
      },
      "execution_count": null,
      "outputs": []
    },
    {
      "cell_type": "code",
      "source": [
        "import torchvision\n",
        "from torchvision.models.segmentation import fcn_resnet50 , FCN_ResNet50_Weights"
      ],
      "metadata": {
        "execution": {
          "iopub.status.busy": "2024-01-25T21:06:47.543866Z",
          "iopub.execute_input": "2024-01-25T21:06:47.544310Z",
          "iopub.status.idle": "2024-01-25T21:06:47.549695Z",
          "shell.execute_reply.started": "2024-01-25T21:06:47.544276Z",
          "shell.execute_reply": "2024-01-25T21:06:47.548467Z"
        },
        "id": "6oJC2xL_TNqx",
        "trusted": true
      },
      "execution_count": null,
      "outputs": []
    },
    {
      "cell_type": "code",
      "source": [
        "weights = FCN_ResNet50_Weights.DEFAULT\n",
        "model2 = fcn_resnet50(weights = weights)"
      ],
      "metadata": {
        "execution": {
          "iopub.status.busy": "2024-01-25T21:09:08.198213Z",
          "iopub.execute_input": "2024-01-25T21:09:08.198925Z",
          "iopub.status.idle": "2024-01-25T21:09:12.849871Z",
          "shell.execute_reply.started": "2024-01-25T21:09:08.198886Z",
          "shell.execute_reply": "2024-01-25T21:09:12.848642Z"
        },
        "id": "FDPeuInlTNqy",
        "trusted": true
      },
      "execution_count": null,
      "outputs": []
    },
    {
      "cell_type": "code",
      "source": [
        "max_epochs = 200\n",
        "val_interval = 2\n",
        "best_metric = -1\n",
        "best_metric_epoch = -1\n",
        "epoch_loss_values = []\n",
        "metric_values = []\n",
        "post_pred = Compose([AsDiscrete(argmax=True, to_onehot=3)])\n",
        "post_label = Compose([AsDiscrete(to_onehot=3)])\n",
        "\n",
        "for epoch in range(max_epochs):\n",
        "    print(\"-\" * 10)\n",
        "    print(f\"epoch {epoch + 1}/{max_epochs}\")\n",
        "    model2.train()\n",
        "    epoch_loss = 0\n",
        "    step = 0\n",
        "    for batch_data in train_loader:\n",
        "        step += 1\n",
        "        inputs, labels = (\n",
        "            batch_data[\"image\"].to(device),\n",
        "            batch_data[\"label\"].to(device),\n",
        "        )\n",
        "        optimizer.zero_grad()\n",
        "        outputs = model(inputs)\n",
        "        loss = loss_function(outputs, labels)\n",
        "        loss.backward()\n",
        "        optimizer.step()\n",
        "        epoch_loss += loss.item()\n",
        "#         print(f\"{step}/{len(train_ds) // train_loader.batch_size}, \" f\"train_loss: {loss.item():.4f}\")\n",
        "    epoch_loss /= step\n",
        "    epoch_loss_values.append(epoch_loss)\n",
        "    print(f\"epoch {epoch + 1} average loss: {epoch_loss:.4f}\")\n",
        "\n",
        "    if (epoch + 1) % val_interval == 0:\n",
        "        model2.eval()\n",
        "        with torch.inference_mode():\n",
        "            for val_data in val_loader:\n",
        "                val_inputs, val_labels = (\n",
        "                    val_data[\"image\"].to(device),\n",
        "                    val_data[\"label\"].to(device),\n",
        "                )\n",
        "                roi_size = (64, 64, 64)\n",
        "                sw_batch_size = 1\n",
        "                val_outputs = sliding_window_inference(val_inputs, roi_size, sw_batch_size, model)\n",
        "                val_outputs = [post_pred(i) for i in decollate_batch(val_outputs)]\n",
        "                val_labels = [post_label(i) for i in decollate_batch(val_labels)]\n",
        "#                 print(val_labels.shape , val_outputs.shape)\n",
        "\n",
        "                # compute metric for current iteration\n",
        "                dice_metric(y_pred=val_outputs, y=val_labels)\n",
        "\n",
        "            # aggregate the final mean dice result\n",
        "            metric = dice_metric.aggregate().item()\n",
        "            # reset the status for next validation round\n",
        "            dice_metric.reset()\n",
        "\n",
        "            metric_values.append(metric)\n",
        "            if metric > best_metric:\n",
        "                best_metric = metric\n",
        "                best_metric_epoch = epoch + 1\n",
        "                torch.save(model2.state_dict(), os.path.join(HOME, \"best_metric_model.pth\"))\n",
        "                print(\"saved new best metric model\")\n",
        "            print(\n",
        "                f\"current epoch: {epoch + 1} current mean dice: {metric:.4f}\"\n",
        "                f\"\\nbest mean dice: {best_metric:.4f} \"\n",
        "                f\"at epoch: {best_metric_epoch}\"\n",
        "            )"
      ],
      "metadata": {
        "execution": {
          "iopub.status.busy": "2024-01-25T21:11:06.639302Z",
          "iopub.execute_input": "2024-01-25T21:11:06.639761Z"
        },
        "id": "HkMyhn5_TNqz",
        "trusted": true
      },
      "execution_count": null,
      "outputs": []
    },
    {
      "cell_type": "code",
      "source": [
        "print(f\"train completed, best_metric: {best_metric:.4f} \" f\"at epoch: {best_metric_epoch}\")"
      ],
      "metadata": {
        "id": "2KzxrPaET7HH",
        "execution": {
          "iopub.status.busy": "2024-01-25T21:04:57.459712Z",
          "iopub.status.idle": "2024-01-25T21:04:57.460070Z",
          "shell.execute_reply.started": "2024-01-25T21:04:57.459891Z",
          "shell.execute_reply": "2024-01-25T21:04:57.459907Z"
        },
        "trusted": true
      },
      "execution_count": null,
      "outputs": []
    },
    {
      "cell_type": "code",
      "source": [
        "plt.figure(\"train\", (12, 6))\n",
        "plt.subplot(1, 2, 1)\n",
        "plt.title(\"Epoch Average Loss\")\n",
        "x = [i + 1 for i in range(len(epoch_loss_values))]\n",
        "y = epoch_loss_values\n",
        "plt.xlabel(\"epoch\")\n",
        "plt.plot(x, y)\n",
        "plt.subplot(1, 2, 2)\n",
        "plt.title(\"Val Mean Dice\")\n",
        "x = [val_interval * (i + 1) for i in range(len(metric_values))]\n",
        "y = metric_values\n",
        "plt.xlabel(\"epoch\")\n",
        "plt.plot(x, y)\n",
        "plt.show()"
      ],
      "metadata": {
        "id": "L_ZKRXuAoA-I",
        "execution": {
          "iopub.status.busy": "2024-01-25T21:04:57.461978Z",
          "iopub.status.idle": "2024-01-25T21:04:57.462522Z",
          "shell.execute_reply.started": "2024-01-25T21:04:57.462251Z",
          "shell.execute_reply": "2024-01-25T21:04:57.462275Z"
        },
        "trusted": true
      },
      "execution_count": null,
      "outputs": []
    },
    {
      "cell_type": "code",
      "source": [
        "model.load_state_dict(torch.load(os.path.join(HOME, \"best_metric_model.pth\")))\n",
        "model.eval()\n",
        "with torch.no_grad():\n",
        "    for i, val_data in enumerate(val_loader):\n",
        "        roi_size = (64, 64, 64)\n",
        "        sw_batch_size = 4\n",
        "        val_outputs = sliding_window_inference(val_data[\"image\"].to(device), roi_size, sw_batch_size, model)\n",
        "#         nib.save(val_data['image'].detach().cpu() , os.path.join(HOME ,f'image_ {i}_.nii.gz'))\n",
        "#         nib.save(val_data['label'].detach().cpu() ,  os.path.join(HOME, f'label_{i}_.nii.gz'))\n",
        "        val_outputs = torch.softmax(val_outputs, 1).cpu().numpy()\n",
        "        val_outputs = np.argmax(val_outputs, axis=1).astype(np.uint8)[0]\n",
        "        nib.save(nib.Nifti1Image(val_outputs, affine), os.path.join(HOME, f'label_{i}_.nii.gz')\n",
        "\n",
        "        # plot the slice [:, :, 80]\n",
        "        plt.figure(\"check\", (18, 6))\n",
        "        plt.subplot(1, 3, 1)\n",
        "        plt.title(f\"image {i}\")\n",
        "        plt.imshow(val_data[\"image\"][0, 0, :, :,70], cmap=\"gray\")\n",
        "        plt.subplot(1, 3, 2)\n",
        "        plt.title(f\"label {i}\")\n",
        "        plt.imshow(val_data[\"label\"][0, 0, :, :, 70])\n",
        "        plt.subplot(1, 3, 3)\n",
        "        plt.title(f\"output {i}\")\n",
        "        plt.imshow(torch.argmax(val_outputs, dim=1).detach().cpu()[0, :, :, 70])\n",
        "        plt.show()\n",
        "\n",
        "#         nib.save(val_data['image'] , filename = os.path.join('/content/drive/MyDrive/preds',f'image_ {i}_.nii.gz'))\n",
        "#         nib.save(val_data['label'] , filename = os.path.join('/content/drive/MyDrive/preds', f'label_{i}_.nii.gz'))\n",
        "#         nib.save(val_data['output'] , filename = os.path.join('/content/drive/MyDrive/preds',f'pred_{i}_.nii.gz'))\n",
        "        if i == 10:\n",
        "            break"
      ],
      "metadata": {
        "id": "ymaTO7YUoL0e",
        "execution": {
          "iopub.status.busy": "2024-01-28T19:27:35.816147Z",
          "iopub.execute_input": "2024-01-28T19:27:35.816536Z",
          "iopub.status.idle": "2024-01-28T19:27:37.272865Z",
          "shell.execute_reply.started": "2024-01-28T19:27:35.816507Z",
          "shell.execute_reply": "2024-01-28T19:27:37.271507Z"
        },
        "trusted": true
      },
      "execution_count": null,
      "outputs": []
    },
    {
      "cell_type": "code",
      "source": [
        "(val_outputs.shape)"
      ],
      "metadata": {
        "id": "aRsPrDE5oma8",
        "execution": {
          "iopub.status.busy": "2024-01-28T18:48:35.558301Z",
          "iopub.execute_input": "2024-01-28T18:48:35.558943Z",
          "iopub.status.idle": "2024-01-28T18:48:35.564757Z",
          "shell.execute_reply.started": "2024-01-28T18:48:35.558909Z",
          "shell.execute_reply": "2024-01-28T18:48:35.563876Z"
        },
        "trusted": true
      },
      "execution_count": null,
      "outputs": []
    },
    {
      "cell_type": "code",
      "source": [],
      "metadata": {
        "id": "BdAIZWj6f-2p"
      },
      "execution_count": null,
      "outputs": []
    }
  ]
}